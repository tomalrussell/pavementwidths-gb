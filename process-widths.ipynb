{
 "cells": [
  {
   "cell_type": "markdown",
   "metadata": {},
   "source": [
    "# Process pavement widths\n",
    "\n",
    "Based on methodology outlined in https://github.com/meliharvey/sidewalkwidths-nyc\n",
    "\n",
    "- read roadside (pavement) features\n",
    "- find centreline\n",
    "- calculate width along centreline\n",
    "- calculate some summary statistics\n",
    "- output cleaned"
   ]
  },
  {
   "cell_type": "code",
   "execution_count": null,
   "metadata": {},
   "outputs": [],
   "source": [
    "import glob\n",
    "import json\n",
    "import os\n",
    "\n",
    "import centerline\n",
    "import centerline.exceptions\n",
    "import pandas\n",
    "import geopandas\n",
    "import requests\n",
    "import shapely.wkt\n",
    "\n",
    "from centerline.geometry import Centerline\n",
    "from pandarallel import pandarallel\n",
    "from shapely.geometry import LineString\n",
    "from shapely.geometry import Point, MultiPoint, MultiLineString\n",
    "from shapely.ops import linemerge, nearest_points\n",
    "from tqdm.notebook import tqdm"
   ]
  },
  {
   "cell_type": "code",
   "execution_count": null,
   "metadata": {},
   "outputs": [],
   "source": [
    "# set up big figures\n",
    "from matplotlib.pyplot import rcParams\n",
    "rcParams['figure.figsize'] = 10, 10"
   ]
  },
  {
   "cell_type": "code",
   "execution_count": null,
   "metadata": {},
   "outputs": [],
   "source": [
    "# set up progress_apply\n",
    "tqdm.pandas()"
   ]
  },
  {
   "cell_type": "code",
   "execution_count": null,
   "metadata": {},
   "outputs": [],
   "source": [
    "CACHE_PATH = os.path.join('.', 'db-data')"
   ]
  },
  {
   "cell_type": "code",
   "execution_count": null,
   "metadata": {},
   "outputs": [],
   "source": [
    "df = geopandas.read_file(os.path.join(CACHE_PATH, 'E07000026.gpkg'))"
   ]
  },
  {
   "cell_type": "code",
   "execution_count": null,
   "metadata": {},
   "outputs": [],
   "source": [
    "df = df.cx[300000:300200, 528800:529000]\n",
    "df.plot()"
   ]
  },
  {
   "cell_type": "code",
   "execution_count": null,
   "metadata": {},
   "outputs": [],
   "source": [
    "def remove_short_lines(line):\n",
    "    \n",
    "    if line.type == 'MultiLineString':\n",
    "        \n",
    "        passing_lines = []\n",
    "    \n",
    "        for i, linestring in enumerate(line):\n",
    "            \n",
    "            other_lines = MultiLineString([x for j, x in enumerate(line) if j != i])\n",
    "            \n",
    "            p0 = Point(linestring.coords[0])\n",
    "            p1 = Point(linestring.coords[-1])\n",
    "            \n",
    "            is_deadend = False\n",
    "            \n",
    "            if p0.disjoint(other_lines): is_deadend = True\n",
    "            if p1.disjoint(other_lines): is_deadend = True\n",
    "            \n",
    "            if not is_deadend or linestring.length > 5:                \n",
    "                passing_lines.append(linestring)\n",
    "            \n",
    "        return MultiLineString(passing_lines)\n",
    "            \n",
    "    if line.type == 'LineString':\n",
    "        return line"
   ]
  },
  {
   "cell_type": "code",
   "execution_count": null,
   "metadata": {},
   "outputs": [],
   "source": [
    "# df['centerlines'] = df.progress_apply(lambda row: Centerline(row.geometry), axis=1)\n",
    "df['centerlines'] = df.geometry.progress_apply(Centerline)"
   ]
  },
  {
   "cell_type": "code",
   "execution_count": null,
   "metadata": {},
   "outputs": [],
   "source": [
    "df.centerlines = df.centerlines.progress_apply(linemerge)"
   ]
  },
  {
   "cell_type": "code",
   "execution_count": null,
   "metadata": {},
   "outputs": [],
   "source": [
    "df.centerlines = df.centerlines.progress_apply(remove_short_lines)"
   ]
  },
  {
   "cell_type": "code",
   "execution_count": null,
   "metadata": {},
   "outputs": [],
   "source": [
    "df.centerlines = df.centerlines.progress_apply(lambda line: line.simplify(1, preserve_topology=True))"
   ]
  },
  {
   "cell_type": "code",
   "execution_count": null,
   "metadata": {},
   "outputs": [],
   "source": [
    "def linestring_to_segments(linestring):\n",
    "    return [\n",
    "        LineString([linestring.coords[i], linestring.coords[i+1]]) \n",
    "        for i in range(len(linestring.coords) - 1)\n",
    "    ]\n",
    "\n",
    "def get_segments(line):\n",
    "    if line.type == 'MultiLineString': \n",
    "        line_segments = []\n",
    "        for linestring in line.geoms:            \n",
    "            line_segments.extend(linestring_to_segments(linestring))\n",
    "        return line_segments\n",
    "\n",
    "    elif line.type == 'LineString':        \n",
    "        return linestring_to_segments(line)\n",
    "    else:\n",
    "        return []"
   ]
  },
  {
   "cell_type": "code",
   "execution_count": null,
   "metadata": {},
   "outputs": [],
   "source": [
    "df['segments'] = df['centerlines'].progress_apply(get_segments)"
   ]
  },
  {
   "cell_type": "code",
   "execution_count": null,
   "metadata": {},
   "outputs": [],
   "source": [
    "def interpolate_by_distance(linestring, distance=1):\n",
    "    count = round(linestring.length / distance) + 1\n",
    "    \n",
    "    if count == 1:\n",
    "        # grab mid-point if it's a short line\n",
    "        return [linestring.interpolate(linestring.length / 2)]\n",
    "    else:\n",
    "        # interpolate along the line\n",
    "        return [linestring.interpolate(distance * i) for i in range(count)]\n",
    "\n",
    "def interpolate(line):    \n",
    "    if line.type == 'MultiLineString':        \n",
    "        all_points = []\n",
    "        \n",
    "        for linestring in line:\n",
    "            all_points.extend(interpolate_by_distance(linestring))\n",
    "        \n",
    "        return all_points\n",
    "            \n",
    "    if line.type == 'LineString':\n",
    "        return interpolate_by_distance(line)\n",
    "    \n",
    "    \n",
    "def polygon_to_multilinestring(polygon):\n",
    "    return MultiLineString([polygon.exterior] + [line for line in polygon.interiors])\n",
    "    \n",
    "\n",
    "def get_avg_distances(row):\n",
    "    avg_distances = []\n",
    "    \n",
    "    boundary = polygon_to_multilinestring(row.geometry)\n",
    "    \n",
    "    for segment in row.segments:        \n",
    "        points = interpolate(segment)\n",
    "        \n",
    "        distances = []\n",
    "        \n",
    "        for point in points:\n",
    "            p1, p2 = nearest_points(boundary, point)\n",
    "            distances.append(p1.distance(p2))\n",
    "            \n",
    "        avg_distances.append(sum(distances) / len(distances))\n",
    "        \n",
    "    return avg_distances"
   ]
  },
  {
   "cell_type": "code",
   "execution_count": null,
   "metadata": {},
   "outputs": [],
   "source": [
    "df['avg_distances'] = df.progress_apply(get_avg_distances, axis=1)"
   ]
  },
  {
   "cell_type": "code",
   "execution_count": null,
   "metadata": {},
   "outputs": [],
   "source": [
    "dfc = df.set_geometry('centerlines')"
   ]
  },
  {
   "cell_type": "code",
   "execution_count": null,
   "metadata": {},
   "outputs": [],
   "source": [
    "df.plot()"
   ]
  },
  {
   "cell_type": "code",
   "execution_count": null,
   "metadata": {},
   "outputs": [],
   "source": [
    "dfc.plot()"
   ]
  },
  {
   "cell_type": "code",
   "execution_count": null,
   "metadata": {},
   "outputs": [],
   "source": [
    "def explode_to_segments(df):\n",
    "    data = {'geometry': [], 'width': []}\n",
    "\n",
    "    for i, row in df.iterrows():\n",
    "\n",
    "        for segment, distance in zip(row.segments, row.avg_distances):\n",
    "            data['geometry'].append(segment.buffer(distance))\n",
    "            data['width'].append(distance * 2)\n",
    "\n",
    "    df_segments = pandas.DataFrame(data)\n",
    "    df_segments = geopandas.GeoDataFrame(df_segments, crs=df.crs, geometry='geometry')\n",
    "    return df_segments\n",
    "\n",
    "df_segments = explode_to_segments(df)\n",
    "df_segments.head(1)"
   ]
  },
  {
   "cell_type": "code",
   "execution_count": null,
   "metadata": {},
   "outputs": [],
   "source": [
    "ax = df.plot(figsize=(15,15), color='white')\n",
    "ax.set_facecolor('black')\n",
    "df_segments.plot(ax=ax, column='width', cmap='Spectral', legend=True)"
   ]
  },
  {
   "cell_type": "markdown",
   "metadata": {},
   "source": [
    "# Process all"
   ]
  },
  {
   "cell_type": "code",
   "execution_count": null,
   "metadata": {},
   "outputs": [],
   "source": [
    "lads = geopandas.read_file(os.path.join(CACHE_PATH, \"lads.gpkg\"))"
   ]
  },
  {
   "cell_type": "code",
   "execution_count": null,
   "metadata": {},
   "outputs": [],
   "source": [
    "def process_centreline(geom):\n",
    "    try:\n",
    "        line = Centerline(geom)\n",
    "    except centerline.exceptions.TooFewRidgesError:\n",
    "        line = Centerline(geom, interpolation_distance=0.1)\n",
    "        \n",
    "    line = remove_short_lines(linemerge(line))\n",
    "    return line.simplify(1, preserve_topology=True)\n",
    "\n",
    "def process_lad(lad_code):\n",
    "    try:\n",
    "        df = geopandas.read_file(os.path.join(CACHE_PATH, f'{lad_code}.gpkg'))\n",
    "    except Exception as err:\n",
    "        print(lad_code, err)\n",
    "        return\n",
    "    \n",
    "    df['centerlines'] = df.geometry.progress_apply(process_centreline)\n",
    "    df['segments'] = df.centerlines.progress_apply(get_segments)\n",
    "    df['avg_distances'] = df.progress_apply(get_avg_distances, axis=1)\n",
    "    df_segments = explode_to_segments(df)\n",
    "    df_segments.to_file(os.path.join(CACHE_PATH, f'{lad_code}_segments.gpkg'), driver='GPKG')    "
   ]
  },
  {
   "cell_type": "code",
   "execution_count": null,
   "metadata": {},
   "outputs": [],
   "source": [
    "for lad_code in tqdm(lads.lad_code):\n",
    "    if lad_code == 'E06000001':\n",
    "        print(lad_code)\n",
    "        process_lad(lad_code)"
   ]
  }
 ],
 "metadata": {
  "kernelspec": {
   "display_name": "Python 3",
   "language": "python",
   "name": "python3"
  },
  "language_info": {
   "codemirror_mode": {
    "name": "ipython",
    "version": 3
   },
   "file_extension": ".py",
   "mimetype": "text/x-python",
   "name": "python",
   "nbconvert_exporter": "python",
   "pygments_lexer": "ipython3",
   "version": "3.7.6"
  }
 },
 "nbformat": 4,
 "nbformat_minor": 4
}
