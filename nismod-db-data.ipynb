{
 "cells": [
  {
   "cell_type": "markdown",
   "metadata": {},
   "source": [
    "# Paths and pavement data from NISMOD-DB\n",
    "\n",
    "Original source OS MasterMap topography layer, Crown copyright."
   ]
  },
  {
   "cell_type": "code",
   "execution_count": null,
   "metadata": {},
   "outputs": [],
   "source": [
    "import configparser\n",
    "import glob\n",
    "import json\n",
    "import os\n",
    "\n",
    "import pandas\n",
    "import geopandas\n",
    "import requests\n",
    "import shapely.wkt\n",
    "from tqdm.notebook import tqdm"
   ]
  },
  {
   "cell_type": "code",
   "execution_count": null,
   "metadata": {},
   "outputs": [],
   "source": [
    "def get_auth():    \n",
    "    # Read connection details\n",
    "    if 'NISMOD_API_USER' in os.environ and 'NISMOD_API_PASSWORD' in os.environ:\n",
    "        username = os.environ['NISMOD_API_USER']\n",
    "        password = os.environ['NISMOD_API_PASSWORD']\n",
    "    else:\n",
    "        parser = configparser.ConfigParser()\n",
    "        parser.read('dbconfig.ini')\n",
    "        username = parser['nismod-api']['user']\n",
    "        password = parser['nismod-api']['password']\n",
    "\n",
    "    return (username, password)"
   ]
  },
  {
   "cell_type": "code",
   "execution_count": null,
   "metadata": {},
   "outputs": [],
   "source": [
    "CACHE_PATH = os.path.join('.', 'db-data')\n",
    "AUTH = get_auth()"
   ]
  },
  {
   "cell_type": "code",
   "execution_count": null,
   "metadata": {},
   "outputs": [],
   "source": [
    "r = requests.get(\n",
    "    'https://www.nismod.ac.uk/api/data/mastermap/area_classes',\n",
    "    auth=AUTH\n",
    ")\n",
    "feature_classes = pandas.DataFrame(r.json())\n",
    "feature_classes.to_csv('feature_classes.csv')\n",
    "feature_classes.head()"
   ]
  },
  {
   "cell_type": "markdown",
   "metadata": {},
   "source": [
    "## Extract classification codes of interest, from manual review of feature classes.\n",
    "\n",
    "With reference to http://www.ordnancesurvey.co.uk/documents/os-mastermap-real-world-object-catalogue.pdf"
   ]
  },
  {
   "cell_type": "code",
   "execution_count": null,
   "metadata": {},
   "outputs": [],
   "source": [
    "feature_codes = [\n",
    "    10123,\n",
    "    10172,\n",
    "    10183,\n",
    "]\n",
    "feature_classes_of_interest = feature_classes[feature_classes.feature_code.isin(feature_codes)]\n",
    "feature_classes_of_interest"
   ]
  },
  {
   "cell_type": "code",
   "execution_count": null,
   "metadata": {},
   "outputs": [],
   "source": [
    "def get_lads(force=False):    \n",
    "    try:\n",
    "        os.mkdir(os.path.join(CACHE_PATH))\n",
    "    except FileExistsError:\n",
    "        pass\n",
    "    fname = os.path.join(CACHE_PATH, \"lads.json\")\n",
    "\n",
    "    if not os.path.exists(fname) or force:\n",
    "        r = requests.get(\n",
    "            'https://www.nismod.ac.uk/api/data/boundaries/lads',\n",
    "            auth=auth,\n",
    "            params={\n",
    "                'lad_codes': 'all',\n",
    "            },\n",
    "            stream=True\n",
    "        )\n",
    "        with open(fname, 'wb') as f:\n",
    "            for chunk in r.iter_content(chunk_size=8192):\n",
    "                if chunk: # filter out keep-alive new chunks\n",
    "                    f.write(chunk)"
   ]
  },
  {
   "cell_type": "code",
   "execution_count": null,
   "metadata": {},
   "outputs": [],
   "source": [
    "get_lads()"
   ]
  },
  {
   "cell_type": "code",
   "execution_count": null,
   "metadata": {},
   "outputs": [],
   "source": [
    "def read_to_gdf(fname):\n",
    "    with open(fname) as fh:\n",
    "        df = json.load(fh)\n",
    "        df = geopandas.GeoDataFrame(df)\n",
    "        df.geometry = df.geom.apply(lambda wkt: shapely.wkt.loads(wkt))\n",
    "        df.drop(\"geom\", axis=1, inplace=True)\n",
    "    return df"
   ]
  },
  {
   "cell_type": "code",
   "execution_count": null,
   "metadata": {},
   "outputs": [],
   "source": [
    "lads = read_to_gdf(os.path.join(CACHE_PATH, \"lads.json\"))\n",
    "lads.head()"
   ]
  },
  {
   "cell_type": "code",
   "execution_count": null,
   "metadata": {},
   "outputs": [],
   "source": [
    "lads[['lad_code']].to_csv('lads.txt', index=False)"
   ]
  },
  {
   "cell_type": "code",
   "execution_count": null,
   "metadata": {},
   "outputs": [],
   "source": [
    "lads.to_file(os.path.join(CACHE_PATH, \"lads.gpkg\"), driver=\"GPKG\")"
   ]
  },
  {
   "cell_type": "code",
   "execution_count": null,
   "metadata": {},
   "outputs": [],
   "source": [
    "def get_features(area_code, area_type, classes, force=False):\n",
    "    try:\n",
    "        os.mkdir(os.path.join(CACHE_PATH))\n",
    "    except FileExistsError:\n",
    "        pass\n",
    "    fname = os.path.join(CACHE_PATH, \"features_{}.json\".format(area_code))\n",
    "\n",
    "    if not os.path.exists(fname) or force:\n",
    "        r = requests.get(\n",
    "            'https://www.nismod.ac.uk/api/data/mastermap/areas',\n",
    "            auth=auth,\n",
    "            params={\n",
    "                'scale': area_type,\n",
    "                'area_codes': area_code,\n",
    "                'classification_codes': join(classes)\n",
    "            },\n",
    "            stream=True\n",
    "        )\n",
    "        with open(fname, 'wb') as f:\n",
    "            for chunk in r.iter_content(chunk_size=8192):\n",
    "                if chunk: # filter out keep-alive new chunks\n",
    "                    f.write(chunk)"
   ]
  },
  {
   "cell_type": "code",
   "execution_count": null,
   "metadata": {},
   "outputs": [],
   "source": [
    "def join(list_, delim=\",\"):\n",
    "    return delim.join(str(element) for element in list_)"
   ]
  },
  {
   "cell_type": "code",
   "execution_count": null,
   "metadata": {},
   "outputs": [],
   "source": [
    "%time get_features('E00003069', 'oa', feature_codes)"
   ]
  },
  {
   "cell_type": "code",
   "execution_count": null,
   "metadata": {},
   "outputs": [],
   "source": [
    "%time get_features('E06000001', 'lad', feature_codes)"
   ]
  },
  {
   "cell_type": "code",
   "execution_count": null,
   "metadata": {},
   "outputs": [],
   "source": [
    "for lad_code in tqdm(lads.lad_code):\n",
    "    get_features(lad_code, 'lad', feature_codes)"
   ]
  },
  {
   "cell_type": "code",
   "execution_count": null,
   "metadata": {},
   "outputs": [],
   "source": [
    "def read_filter_write(lad_code):\n",
    "    # read\n",
    "    try:\n",
    "        fname = glob.glob(os.path.join(CACHE_PATH, f\"features_{lad_code}*\"))[0]\n",
    "    except Exception as err:\n",
    "        print(lad_code, err)\n",
    "        return\n",
    "    \n",
    "    output_fname = os.path.join(CACHE_PATH, f'{lad_code}.gpkg')\n",
    "    \n",
    "    if os.path.exists(output_fname):\n",
    "        print(lad_code, \"Skipped as exists already\")\n",
    "        return\n",
    "    \n",
    "    with open(fname) as fh:\n",
    "        try:\n",
    "            df = pandas.DataFrame(json.load(fh))\n",
    "        except Exception as err:\n",
    "            print(lad_code, err)\n",
    "            return\n",
    "        \n",
    "    if not len(df):\n",
    "        print(lad_code, \"No data\")\n",
    "        return\n",
    "    \n",
    "    # treat columns for easier filtering (data are lists, mostly single-element)\n",
    "    df.descriptive_group = df.descriptive_group.apply(join)\n",
    "    df.theme = df.theme.apply(join)\n",
    "    \n",
    "    # filter\n",
    "    df = df[(df.descriptive_group == 'Roadside') & (df.make == 'Manmade')]\n",
    "    \n",
    "    # convert to geodataframe\n",
    "    df['geometry'] = df.geom.apply(shapely.wkt.loads)\n",
    "    df.drop(\"geom\", axis=1, inplace=True)        \n",
    "    df = geopandas.GeoDataFrame(df)\n",
    "    \n",
    "    # write\n",
    "    df.to_file(output_fname, driver='GPKG')"
   ]
  },
  {
   "cell_type": "code",
   "execution_count": null,
   "metadata": {},
   "outputs": [],
   "source": [
    "for lad_code in tqdm(lads.lad_code):\n",
    "    read_filter_write(lad_code)"
   ]
  }
 ],
 "metadata": {
  "kernelspec": {
   "display_name": "Python 3",
   "language": "python",
   "name": "python3"
  },
  "language_info": {
   "codemirror_mode": {
    "name": "ipython",
    "version": 3
   },
   "file_extension": ".py",
   "mimetype": "text/x-python",
   "name": "python",
   "nbconvert_exporter": "python",
   "pygments_lexer": "ipython3",
   "version": "3.7.6"
  }
 },
 "nbformat": 4,
 "nbformat_minor": 4
}
